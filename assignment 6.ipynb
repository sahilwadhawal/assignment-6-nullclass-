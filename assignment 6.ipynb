{
 "cells": [
  {
   "cell_type": "code",
   "execution_count": 4,
   "metadata": {},
   "outputs": [],
   "source": [
    "import speech_recognition as sr\n",
    "import datetime"
   ]
  },
  {
   "cell_type": "code",
   "execution_count": 8,
   "metadata": {},
   "outputs": [
    {
     "name": "stdout",
     "output_type": "stream",
     "text": [
      "Speak in English...\n",
      "Sorry, I couldn't understand the audio. Please repeat.\n",
      "Speak in English...\n",
      "Recognized: hello\n",
      "Translated to Hindi: नमस्ते\n"
     ]
    }
   ],
   "source": [
    "def load_translation_data():\n",
    "  \n",
    "    translation_data = {}\n",
    "    with open(\"../data6/english.txt\", 'r', encoding='utf-8') as f_eng, open(\"../data6/hindi.txt\", encoding='utf-8') as f_hindi:\n",
    "        for eng_line, hindi_line in zip(f_eng, f_hindi):\n",
    "            eng_phrase = eng_line.strip().lower()\n",
    "            hindi_translation = hindi_line.strip()\n",
    "            translation_data[eng_phrase] = hindi_translation\n",
    "    return translation_data\n",
    "\n",
    "def translate_audio_to_hindi():\n",
    "    translation_data = load_translation_data()\n",
    "\n",
    "    recognizer = sr.Recognizer()\n",
    "\n",
    "    now = datetime.datetime.now(datetime.timezone.utc).astimezone(datetime.timezone(datetime.timedelta(hours=5, minutes=30)))\n",
    "    current_time = now.time()\n",
    "\n",
    "    # Check if current time is after 6 PM IST\n",
    "    if current_time < datetime.time(18, 0):\n",
    "        print(\"Translation service is available only after 6 PM IST.\")\n",
    "        return\n",
    "\n",
    "    with sr.Microphone() as source:\n",
    "        print(\"Speak in English...\")\n",
    "        audio = recognizer.listen(source)\n",
    "\n",
    "    try:\n",
    "        spoken_text = recognizer.recognize_google(audio)\n",
    "        print(f\"Recognized: {spoken_text}\")\n",
    "        \n",
    "        # Check if the recognized text is excluded (starts with 'M' or 'O')\n",
    "        first_char = spoken_text.strip().split()[0][0].lower()\n",
    "        if first_char in ['m', 'o']:\n",
    "            print(\"Cannot translate words starting with 'M' or 'O'. Please try again.\")\n",
    "            return\n",
    "        \n",
    "        # Translate to Hindi using pre-loaded dataset\n",
    "        spoken_text_lower = spoken_text.lower()\n",
    "        if spoken_text_lower in translation_data:\n",
    "            translated_text = translation_data[spoken_text_lower]\n",
    "            print(f\"Translated to Hindi: {translated_text}\")\n",
    "        else:\n",
    "            print(\"Translation not found in the dataset.\")\n",
    "        \n",
    "    except sr.UnknownValueError:\n",
    "        print(\"Sorry, I couldn't understand the audio. Please repeat.\")\n",
    "        translate_audio_to_hindi()\n",
    "    except sr.RequestError:\n",
    "        print(\"Speech recognition service is unavailable.\")\n",
    "    except Exception as e:\n",
    "        print(f\"Error: {e}\")\n",
    "\n",
    "if __name__ == \"__main__\":\n",
    "    translate_audio_to_hindi()"
   ]
  }
 ],
 "metadata": {
  "kernelspec": {
   "display_name": "nullclass1",
   "language": "python",
   "name": "python3"
  },
  "language_info": {
   "codemirror_mode": {
    "name": "ipython",
    "version": 3
   },
   "file_extension": ".py",
   "mimetype": "text/x-python",
   "name": "python",
   "nbconvert_exporter": "python",
   "pygments_lexer": "ipython3",
   "version": "3.9.18"
  }
 },
 "nbformat": 4,
 "nbformat_minor": 2
}
